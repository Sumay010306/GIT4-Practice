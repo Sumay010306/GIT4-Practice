{
 "cells": [
  {
   "cell_type": "markdown",
   "metadata": {},
   "source": [
    "# Coding the Linear Regression Algorithm"
   ]
  },
  {
   "cell_type": "code",
   "execution_count": 1,
   "metadata": {},
   "outputs": [],
   "source": [
    "import numpy as np"
   ]
  },
  {
   "cell_type": "code",
   "execution_count": 2,
   "metadata": {},
   "outputs": [],
   "source": [
    "class LinearRegression():\n",
    "    def __init__(self, lr=0.01, n_iters=1000):\n",
    "        self.lr=lr\n",
    "        self.n_iters=n_iters\n",
    "        self.weights=None\n",
    "        self.bias=None\n",
    "    def train(self, X, y):\n",
    "        n_samples, n_features=X.shape\n",
    "        self.weights=np.zeros(n_features)\n",
    "        self.bias=0\n",
    "        train_loss=[]\n",
    "        num_iters=[]\n",
    "        for _ in range(self.n_iters):\n",
    "            cost=0\n",
    "            y_pred=np.dot(X, self.weights)+self.bias\n",
    "            loss=(1/n_samples)*((y_pred-y)**2)/2\n",
    "            cost+=loss\n",
    "            train_loss.append(cost)\n",
    "            dw=(2/n_samples)*(np.dot(X.T, (y_pred-y)))\n",
    "            db=(2/n_samples)*(np.sum(y_pred-y))\n",
    "            self.weights=self.weights-(self.lr*dw)\n",
    "            self.bias=self.bias-(self.lr*db)\n",
    "            num_iters.append(_)\n",
    "        return train_loss, num_iters\n",
    "    def test(self, X):\n",
    "        y_pred=np.dot(X, self.weights)+self.bias\n",
    "        return y_pred"
   ]
  }
 ],
 "metadata": {
  "kernelspec": {
   "display_name": "base",
   "language": "python",
   "name": "python3"
  },
  "language_info": {
   "codemirror_mode": {
    "name": "ipython",
    "version": 3
   },
   "file_extension": ".py",
   "mimetype": "text/x-python",
   "name": "python",
   "nbconvert_exporter": "python",
   "pygments_lexer": "ipython3",
   "version": "3.12.4"
  }
 },
 "nbformat": 4,
 "nbformat_minor": 2
}
